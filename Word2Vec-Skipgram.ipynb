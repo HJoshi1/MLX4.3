{
 "cells": [
  {
   "cell_type": "code",
   "execution_count": 5,
   "metadata": {},
   "outputs": [],
   "source": [
    "from gensim.models import Word2Vec\n",
    "from gensim.corpora import WikiCorpus\n"
   ]
  },
  {
   "cell_type": "code",
   "execution_count": 23,
   "metadata": {},
   "outputs": [],
   "source": [
    "import sentencepiece as spm\n",
    "\n",
    "# Load the trained SentencePiece model\n",
    "sp = spm.SentencePieceProcessor()\n",
    "sp.load('m.model')\n",
    "\n",
    "tokenized_corpus = []\n",
    "with open('corpus.txt', 'r', encoding='utf-8') as file:\n",
    "    for line in file:\n",
    "        # Assuming `line.strip()` is your sentence\n",
    "        # And your tokenizer has an `encode` method\n",
    "        tokenized_sentence = sp.encode(line.strip(), out_type=str)\n",
    "        tokenized_corpus.append(tokenized_sentence)"
   ]
  },
  {
   "cell_type": "code",
   "execution_count": 24,
   "metadata": {},
   "outputs": [],
   "source": [
    "# word2vec hyper params \n",
    "vocab_size = sp.get_piece_size()\n",
    "embedding_dim = 128\n",
    "window_size = 2\n",
    "learning_rate = 0.01\n",
    "epochs = 5\n",
    "batch_size = 32\n",
    "\n",
    "# Initialise and train word2vec\n",
    "word2vec_model = Word2Vec(sentences=tokenized_corpus, vector_size=embedding_dim, window=window_size, sg=1)\n",
    "\n",
    "word2vec_model.save(\"word2vec_model.model\")"
   ]
  },
  {
   "cell_type": "code",
   "execution_count": null,
   "metadata": {},
   "outputs": [],
   "source": []
  }
 ],
 "metadata": {
  "kernelspec": {
   "display_name": "week3",
   "language": "python",
   "name": "python3"
  },
  "language_info": {
   "codemirror_mode": {
    "name": "ipython",
    "version": 3
   },
   "file_extension": ".py",
   "mimetype": "text/x-python",
   "name": "python",
   "nbconvert_exporter": "python",
   "pygments_lexer": "ipython3",
   "version": "3.12.2"
  }
 },
 "nbformat": 4,
 "nbformat_minor": 2
}
